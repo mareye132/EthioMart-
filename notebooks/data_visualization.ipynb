{
 "cells": [
  {
   "cell_type": "code",
   "execution_count": null,
   "metadata": {},
   "outputs": [],
   "source": [
    "# data_visualization.ipynb\n",
    "\n",
    "# Step 1: Import necessary libraries\n",
    "import pandas as pd\n",
    "import matplotlib.pyplot as plt\n",
    "import pymongo\n",
    "\n",
    "# Step 2: Connect to MongoDB and fetch the data\n",
    "mongo_client = pymongo.MongoClient('mongodb://localhost:27017/')\n",
    "db = mongo_client['ethio_mart']\n",
    "collection = db['messages']\n",
    "\n",
    "# Fetch data into a DataFrame\n",
    "data = collection.find()\n",
    "df = pd.DataFrame(list(data))\n",
    "\n",
    "# Step 3: Data preprocessing for visualization\n",
    "# Convert timestamps to datetime\n",
    "df['timestamp'] = pd.to_datetime(df['timestamp'])\n",
    "\n",
    "# Step 4: Visualizing message frequency over time\n",
    "plt.figure(figsize=(12, 6))\n",
    "df['date'] = df['timestamp'].dt.date  # Extract date from timestamp\n",
    "message_counts = df.groupby('date').size()  # Count messages per date\n",
    "\n",
    "plt.plot(message_counts.index, message_counts.values, marker='o')\n",
    "plt.title('Message Frequency Over Time')\n",
    "plt.xlabel('Date')\n",
    "plt.ylabel('Number of Messages')\n",
    "plt.xticks(rotation=45)\n",
    "plt.grid()\n",
    "plt.tight_layout()\n",
    "plt.show()\n",
    "\n",
    "# Step 5: Visualizing top senders\n",
    "plt.figure(figsize=(12, 6))\n",
    "top_senders = df['sender'].value_counts().head(10)\n",
    "top_senders.plot(kind='bar', color='skyblue')\n",
    "plt.title('Top 10 Message Senders')\n",
    "plt.xlabel('Sender')\n",
    "plt.ylabel('Number of Messages')\n",
    "plt.xticks(rotation=45)\n",
    "plt.grid(axis='y')\n",
    "plt.tight_layout()\n",
    "plt.show()\n"
   ]
  }
 ],
 "metadata": {
  "language_info": {
   "name": "python"
  }
 },
 "nbformat": 4,
 "nbformat_minor": 2
}
